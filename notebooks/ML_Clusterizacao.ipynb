{
 "cells": [
  {
   "cell_type": "markdown",
   "id": "8d32d43d-3db6-49fc-b24a-5e4373d24b17",
   "metadata": {},
   "source": [
    "# 0. Cluster"
   ]
  },
  {
   "cell_type": "markdown",
   "id": "1678a546-d849-41a4-a3a8-6b37c9d33ddd",
   "metadata": {
    "jp-MarkdownHeadingCollapsed": true
   },
   "source": [
    "## 1. Libory and Datasets"
   ]
  },
  {
   "cell_type": "code",
   "execution_count": 1,
   "id": "91e301de-a960-4456-afa1-a80889f12f3f",
   "metadata": {},
   "outputs": [],
   "source": [
    "import pandas as pd\n",
    "\n",
    "from sklearn          import metrics    as m\n",
    "from sklearn          import cluster    as c\n",
    "from sklearn.datasets import make_blobs\n",
    "from sklearn.cluster  import KMeans"
   ]
  },
  {
   "cell_type": "code",
   "execution_count": 3,
   "id": "51928752-0913-4766-94f3-c6f06c0e6f89",
   "metadata": {},
   "outputs": [],
   "source": [
    "# dataset\n",
    "X = pd.read_csv('datasets/X_dataset.csv')"
   ]
  },
  {
   "cell_type": "markdown",
   "id": "b0a8de5a-a309-4661-aa75-c369dd5b7d33",
   "metadata": {},
   "source": [
    "## 1.1 Treinamento o algoritmo Affinity Propagation"
   ]
  },
  {
   "cell_type": "code",
   "execution_count": 4,
   "id": "4df87f54-33d1-441e-a6d0-98ebfe754cbe",
   "metadata": {},
   "outputs": [
    {
     "data": {
      "text/plain": [
       "0.16225632094112552"
      ]
     },
     "execution_count": 4,
     "metadata": {},
     "output_type": "execute_result"
    }
   ],
   "source": [
    "# training model\n",
    "model = c.AffinityPropagation(preference=-40)\n",
    "model.fit( X, y=None )\n",
    "\n",
    "# clustering data\n",
    "labels = model.predict( X )\n",
    "\n",
    "# Performance\n",
    "ss = m.silhouette_score(X, labels)\n",
    "ss"
   ]
  },
  {
   "cell_type": "markdown",
   "id": "64b9e1ce-3233-48aa-a8b4-272f4ee5a918",
   "metadata": {},
   "source": [
    "## 1.2 Treinamento o algoritmo KMeans"
   ]
  },
  {
   "cell_type": "code",
   "execution_count": 5,
   "id": "446fed56-d783-4aba-af23-b764388807f3",
   "metadata": {},
   "outputs": [
    {
     "data": {
      "text/plain": [
       "0.16977868292588666"
      ]
     },
     "execution_count": 5,
     "metadata": {},
     "output_type": "execute_result"
    }
   ],
   "source": [
    "kmeans = KMeans(n_clusters=8)\n",
    "kmeans.fit(X)\n",
    "\n",
    "labels = kmeans.predict( X )\n",
    "\n",
    "m.silhouette_score(X, labels)"
   ]
  },
  {
   "cell_type": "code",
   "execution_count": null,
   "id": "a7518618-8bad-4d0d-9032-99cee9e448ca",
   "metadata": {},
   "outputs": [],
   "source": []
  }
 ],
 "metadata": {
  "kernelspec": {
   "display_name": "Python 3 (ipykernel)",
   "language": "python",
   "name": "python3"
  },
  "language_info": {
   "codemirror_mode": {
    "name": "ipython",
    "version": 3
   },
   "file_extension": ".py",
   "mimetype": "text/x-python",
   "name": "python",
   "nbconvert_exporter": "python",
   "pygments_lexer": "ipython3",
   "version": "3.9.18"
  }
 },
 "nbformat": 4,
 "nbformat_minor": 5
}
